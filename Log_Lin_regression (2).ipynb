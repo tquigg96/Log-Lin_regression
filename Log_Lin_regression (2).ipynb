{
  "nbformat": 4,
  "nbformat_minor": 0,
  "metadata": {
    "colab": {
      "name": "Log/Lin_regression",
      "provenance": [],
      "collapsed_sections": []
    },
    "kernelspec": {
      "name": "python3",
      "display_name": "Python 3"
    },
    "language_info": {
      "name": "python"
    }
  },
  "cells": [
    {
      "cell_type": "code",
      "metadata": {
        "colab": {
          "base_uri": "https://localhost:8080/"
        },
        "id": "e5o4beV9Cfgj",
        "outputId": "14d03a6c-1e7b-476e-858c-18c95c7bfe07"
      },
      "source": [
        "from google.colab import drive\n",
        "drive.mount('/content/drive')"
      ],
      "execution_count": null,
      "outputs": [
        {
          "output_type": "stream",
          "name": "stdout",
          "text": [
            "Drive already mounted at /content/drive; to attempt to forcibly remount, call drive.mount(\"/content/drive\", force_remount=True).\n"
          ]
        }
      ]
    },
    {
      "cell_type": "code",
      "metadata": {
        "id": "V3I2DnrDHcAe"
      },
      "source": [
        "import numpy as np \n",
        "from numpy import genfromtxt\n",
        "import pandas as pd\n",
        "import matplotlib.pyplot as plt\n",
        "\n",
        "\n",
        "#import data\n",
        "path = \"/content/drive/MyDrive/CSV_files/iris.data.csv\"\n",
        "data = pd.read_csv(path)"
      ],
      "execution_count": null,
      "outputs": []
    },
    {
      "cell_type": "code",
      "metadata": {
        "id": "yGnNUqhvIuGf"
      },
      "source": [
        "sepalLen = data.loc[:,'SepalLen']\n",
        "sepalWid = data.loc[:,'SepalWid']\n",
        "petalLen = data.loc[:,'PetalLen']\n",
        "petalWid = data.loc[:,'petalWid']\n",
        "\n",
        "ActualFlower = data.loc[:,'Flower']\n",
        "\n",
        "FlowerX = [sepalLen, petalLen]\n",
        "FlowerY = [sepalWid, petalWid]\n"
      ],
      "execution_count": null,
      "outputs": []
    },
    {
      "cell_type": "code",
      "metadata": {
        "id": "3b4exZBnDdV6"
      },
      "source": [
        "def LinearRegressionCross(x,y,L):\n",
        "  w = [0,0] #initialize at start\n",
        "  n = len(x[0])\n",
        "  for i in range(len(x[0])):\n",
        "    y_pred = w[0]*x[0] + w[1]*x[1] # ybar = mx+b --> mx+b+e for the noise\n",
        "    Data_m =  sum(x[0]*-abs(y[0] - y_pred)) # partial derivative respect to m\n",
        "    Data_b =  sum(x[1]*-abs(y[1] - y_pred))   # partial derivative respect to c\n",
        "\n",
        "    #perform Gradient Descent\n",
        "    w[0] = w[0]- L*Data_m #update weights\n",
        "    w[1] = w[1]-L*Data_b\n",
        "    \n",
        "\n",
        "  return w\n",
        "\n",
        "  \n",
        "\n",
        "def LinearRegressionMean(x,y,L):\n",
        "  w = [0,0] #initialize at start\n",
        "  n = len(x[0])\n",
        "  for i in range(len(x[0])):\n",
        "    y_pred = w[0]*x[0] + w[1]*x[1] # ybar = mx+b --> mx+b+e for the noise\n",
        "    Data_m = (-2/n) * sum(x[0]*(y[0] - y_pred)) # partial derivative respect to m\n",
        "    Data_b = (-2/n) * sum(x[1]*(y[1] - y_pred))   # partial derivative respect to b\n",
        "\n",
        "    #perform Gradient Descent\n",
        "    w[0] = w[0]- L*Data_m #update weights\n",
        "    w[1] = w[1]-L*Data_b\n",
        "   \n",
        "  \n",
        "  return w"
      ],
      "execution_count": null,
      "outputs": []
    },
    {
      "cell_type": "code",
      "metadata": {
        "colab": {
          "base_uri": "https://localhost:8080/"
        },
        "id": "1MBgCmAhEstS",
        "outputId": "5c812628-1425-4a5a-90cd-9cabc5030be8"
      },
      "source": [
        "\n",
        "\n",
        "NewWeightsMean = LinearRegressionMean(FlowerX,FlowerY, 0.001) \n",
        "NewWeightsCross = LinearRegressionCross(FlowerX,FlowerY,0.001)\n",
        "print(\"MeanSquared: \", NewWeightsMean)\n",
        "print(\"CrossEntropy: \", NewWeightsCross)\n",
        "\n",
        "#Linear regression is only predicting the wid of the sepal and Petal\n",
        "#in order to predict the flower we need to use Logistical Regression\n"
      ],
      "execution_count": null,
      "outputs": [
        {
          "output_type": "stream",
          "name": "stdout",
          "text": [
            "MeanSquared:  [1.0587639661551642, -0.9125311648793276]\n",
            "CrossEntropy:  [5.573278861347877e+139, 3.8479651400943493e+139]\n"
          ]
        }
      ]
    },
    {
      "cell_type": "code",
      "metadata": {
        "id": "1PDikmwGQlkw"
      },
      "source": [
        "\n",
        "\n",
        "\n",
        "\n",
        "#regression mean from scratch\n",
        "# to demonstrate knowledge of both mean and cross mathematics part. Classification itself presents itself a challenge. Not enough web sources for multinomial but binomial plausible\n",
        "def logisticalRegressionMean(w,x,L):\n",
        "    n = len(x[0])\n",
        "    for i in range(len(X_train)):\n",
        "      z = w[0]*x[0]+w[1]*x[1] + w[2]*x[2] + w[3]*x[3]\n",
        "      y_pred = 1/(1+math.exp(-1*z))  \n",
        "      loss1 = -2/n*(y[i] - y_pred)*y_pred*(1-y_pred)*x[0] \n",
        "      loss2 = -2/n*(y[i] - y_pred)*y_pred*(1-y_pred)*x[1] \n",
        "      loss3 = -2/n*(y[i] - y_pred)*y_pred*(1-y_pred)*x[2] \n",
        "      loss4 = -2/n*(y[i] - y_pred)*y_pred*(1-y_pred)*x[3] \n",
        "      w[0] = w[0]- L*loss1\n",
        "      w[1] = w[1]-L*loss2\n",
        "      w[2] = w[2]-L*loss3\n",
        "      w[3] = w[2]-L*loss3\n",
        "\n",
        "\n",
        "def logisticalRegressionCross(w,x,L):\n",
        "    n = len(x[0])\n",
        "    for i in range(len(X_train)):\n",
        "      z = w[0]*x[0]+w[1]*x[1] + w[2]*x[2] + w[3]*x[3]\n",
        "      y_pred = 1/(1+math.exp(-1*z))  \n",
        "      loss1 = sum(-abs((y[i] - y_pred)*y_pred*(1-y_pred)*x[0]))\n",
        "      loss2 = sum(-abs((y[i] - y_pred)*y_pred*(1-y_pred)*x[1])) \n",
        "      loss3 = sum(-abs((y[i] - y_pred)*y_pred*(1-y_pred)*x[2])) \n",
        "      loss4 = sum(-abs((y[i] - y_pred)*y_pred*(1-y_pred)*x[3]))\n",
        "      w[0] = w[0]- L*loss1\n",
        "      w[1] = w[1]-L*loss2\n",
        "      w[2] = w[2]-L*loss3\n",
        "      w[3] = w[2]-L*loss3\n",
        "\n",
        "\n",
        "#ignore above\n",
        "\n",
        "\n",
        "\n"
      ],
      "execution_count": null,
      "outputs": []
    },
    {
      "cell_type": "code",
      "metadata": {
        "colab": {
          "base_uri": "https://localhost:8080/"
        },
        "id": "dTJYtSW_Vgf6",
        "outputId": "ba006299-962b-419b-bddf-c2b5225e74f3"
      },
      "source": [
        "x = data.iloc[:,:-1]\n",
        "\n",
        "y = data.iloc[:, -1]\n",
        "\n",
        "print(x)\n",
        "\n"
      ],
      "execution_count": null,
      "outputs": [
        {
          "output_type": "stream",
          "name": "stdout",
          "text": [
            "     SepalLen  SepalWid  PetalLen  petalWid\n",
            "0         5.1       3.5       1.4       0.2\n",
            "1         4.9       3.0       1.4       0.2\n",
            "2         4.7       3.2       1.3       0.2\n",
            "3         4.6       3.1       1.5       0.2\n",
            "4         5.0       3.6       1.4       0.2\n",
            "..        ...       ...       ...       ...\n",
            "145       6.7       3.0       5.2       2.3\n",
            "146       6.3       2.5       5.0       1.9\n",
            "147       6.5       3.0       5.2       2.0\n",
            "148       6.2       3.4       5.4       2.3\n",
            "149       5.9       3.0       5.1       1.8\n",
            "\n",
            "[150 rows x 4 columns]\n"
          ]
        }
      ]
    },
    {
      "cell_type": "code",
      "metadata": {
        "colab": {
          "base_uri": "https://localhost:8080/",
          "height": 206
        },
        "id": "X0GdP5ZpXODI",
        "outputId": "cf269d89-360b-42a7-ef5a-ac956988bcf7"
      },
      "source": [
        "import matplotlib.pyplot as plt\n",
        "import seaborn as sns\n",
        "from sklearn.linear_model import LogisticRegression\n",
        "from sklearn.metrics import classification_report\n",
        "from sklearn.metrics import accuracy_score\n",
        "from sklearn.model_selection import train_test_split\n",
        "\n",
        "\n",
        "#load iris dataset using seaborn\n",
        "\n",
        "data = sns.load_dataset(\"iris\")\n",
        "data.head()\n",
        "\n"
      ],
      "execution_count": null,
      "outputs": [
        {
          "output_type": "execute_result",
          "data": {
            "text/html": [
              "<div>\n",
              "<style scoped>\n",
              "    .dataframe tbody tr th:only-of-type {\n",
              "        vertical-align: middle;\n",
              "    }\n",
              "\n",
              "    .dataframe tbody tr th {\n",
              "        vertical-align: top;\n",
              "    }\n",
              "\n",
              "    .dataframe thead th {\n",
              "        text-align: right;\n",
              "    }\n",
              "</style>\n",
              "<table border=\"1\" class=\"dataframe\">\n",
              "  <thead>\n",
              "    <tr style=\"text-align: right;\">\n",
              "      <th></th>\n",
              "      <th>sepal_length</th>\n",
              "      <th>sepal_width</th>\n",
              "      <th>petal_length</th>\n",
              "      <th>petal_width</th>\n",
              "      <th>species</th>\n",
              "    </tr>\n",
              "  </thead>\n",
              "  <tbody>\n",
              "    <tr>\n",
              "      <th>0</th>\n",
              "      <td>5.1</td>\n",
              "      <td>3.5</td>\n",
              "      <td>1.4</td>\n",
              "      <td>0.2</td>\n",
              "      <td>setosa</td>\n",
              "    </tr>\n",
              "    <tr>\n",
              "      <th>1</th>\n",
              "      <td>4.9</td>\n",
              "      <td>3.0</td>\n",
              "      <td>1.4</td>\n",
              "      <td>0.2</td>\n",
              "      <td>setosa</td>\n",
              "    </tr>\n",
              "    <tr>\n",
              "      <th>2</th>\n",
              "      <td>4.7</td>\n",
              "      <td>3.2</td>\n",
              "      <td>1.3</td>\n",
              "      <td>0.2</td>\n",
              "      <td>setosa</td>\n",
              "    </tr>\n",
              "    <tr>\n",
              "      <th>3</th>\n",
              "      <td>4.6</td>\n",
              "      <td>3.1</td>\n",
              "      <td>1.5</td>\n",
              "      <td>0.2</td>\n",
              "      <td>setosa</td>\n",
              "    </tr>\n",
              "    <tr>\n",
              "      <th>4</th>\n",
              "      <td>5.0</td>\n",
              "      <td>3.6</td>\n",
              "      <td>1.4</td>\n",
              "      <td>0.2</td>\n",
              "      <td>setosa</td>\n",
              "    </tr>\n",
              "  </tbody>\n",
              "</table>\n",
              "</div>"
            ],
            "text/plain": [
              "   sepal_length  sepal_width  petal_length  petal_width species\n",
              "0           5.1          3.5           1.4          0.2  setosa\n",
              "1           4.9          3.0           1.4          0.2  setosa\n",
              "2           4.7          3.2           1.3          0.2  setosa\n",
              "3           4.6          3.1           1.5          0.2  setosa\n",
              "4           5.0          3.6           1.4          0.2  setosa"
            ]
          },
          "metadata": {},
          "execution_count": 54
        }
      ]
    },
    {
      "cell_type": "code",
      "metadata": {
        "colab": {
          "base_uri": "https://localhost:8080/"
        },
        "id": "s3rfvLNqZPT4",
        "outputId": "65ee4216-e369-4e27-866e-a949d1d83dbc"
      },
      "source": [
        "#training set\n",
        "\n",
        "x = data.iloc[:,:-1]\n",
        "y = data.iloc[:, -1]\n",
        "\n",
        "print(x)"
      ],
      "execution_count": null,
      "outputs": [
        {
          "output_type": "stream",
          "name": "stdout",
          "text": [
            "     sepal_length  sepal_width  petal_length  petal_width\n",
            "0             5.1          3.5           1.4          0.2\n",
            "1             4.9          3.0           1.4          0.2\n",
            "2             4.7          3.2           1.3          0.2\n",
            "3             4.6          3.1           1.5          0.2\n",
            "4             5.0          3.6           1.4          0.2\n",
            "..            ...          ...           ...          ...\n",
            "145           6.7          3.0           5.2          2.3\n",
            "146           6.3          2.5           5.0          1.9\n",
            "147           6.5          3.0           5.2          2.0\n",
            "148           6.2          3.4           5.4          2.3\n",
            "149           5.9          3.0           5.1          1.8\n",
            "\n",
            "[150 rows x 4 columns]\n"
          ]
        }
      ]
    },
    {
      "cell_type": "code",
      "metadata": {
        "colab": {
          "base_uri": "https://localhost:8080/",
          "height": 551
        },
        "id": "qHMVfwwsZnhe",
        "outputId": "05e7de2f-d8bd-4d85-e6bb-e58542191c37"
      },
      "source": [
        "#plot\n",
        "\n",
        "plt.xlabel('features')\n",
        "plt.ylabel('Species')\n",
        "\n",
        "pltX = data.loc[:, 'sepal_length']\n",
        "pltY = data.loc[:,'species']\n",
        "plt.scatter(pltX, pltY, color = 'green', label = 'sepal_length')\n",
        "\n",
        "pltX = data.loc[:, 'sepal_width']\n",
        "pltY = data.loc[:,'species']\n",
        "plt.scatter(pltX, pltY, color = 'blue', label = 'sepal_width')\n",
        "\n",
        "pltX = data.loc[:, 'petal_length']\n",
        "pltY = data.loc[:,'species']\n",
        "plt.scatter(pltX, pltY, color = 'red', label = 'petal_length')\n",
        "\n",
        "pltX = data.loc[:, 'petal_width']\n",
        "pltY = data.loc[:,'species']\n",
        "plt.scatter(pltX, pltY, color = 'purple', label = 'petal_width')\n",
        "\n",
        "plt.legend()\n",
        "plt.show()\n"
      ],
      "execution_count": null,
      "outputs": [
        {
          "output_type": "display_data",
          "data": {
            "image/png": "[encoded data removed]",
            "text/plain": [
              "<Figure size 1584x648 with 1 Axes>"
            ]
          },
          "metadata": {
            "needs_background": "light"
          }
        }
      ]
    },
    {
      "cell_type": "code",
      "metadata": {
        "id": "1MM4tBmHbOt-"
      },
      "source": [
        "#split data 80% training 20% testing\n",
        "\n",
        "x_train, x_test, y_train, y_test = train_test_split(x,y,test_size = 0.2, random_state = 42)\n",
        "\n"
      ],
      "execution_count": null,
      "outputs": []
    },
    {
      "cell_type": "code",
      "metadata": {
        "colab": {
          "base_uri": "https://localhost:8080/"
        },
        "id": "a1ofZZf4cFF2",
        "outputId": "f946338a-2abe-4224-9809-e99bf5e9f26c"
      },
      "source": [
        "#train\n",
        "\n",
        "model = LogisticRegression()\n",
        "model.fit(x_train, y_train)\n",
        "\n",
        "prediction = model.predict(x_test)\n",
        "print(prediction) # all predictions for all test data"
      ],
      "execution_count": null,
      "outputs": [
        {
          "output_type": "stream",
          "name": "stdout",
          "text": [
            "['versicolor' 'setosa' 'virginica' 'versicolor' 'versicolor' 'setosa'\n",
            " 'versicolor' 'virginica' 'versicolor' 'versicolor' 'virginica' 'setosa'\n",
            " 'setosa' 'setosa' 'setosa' 'versicolor' 'virginica' 'versicolor'\n",
            " 'versicolor' 'virginica' 'setosa' 'virginica' 'setosa' 'virginica'\n",
            " 'virginica' 'virginica' 'virginica' 'virginica' 'setosa' 'setosa']\n"
          ]
        },
        {
          "output_type": "stream",
          "name": "stderr",
          "text": [
            "/usr/local/lib/python3.7/dist-packages/sklearn/linear_model/_logistic.py:940: ConvergenceWarning: lbfgs failed to converge (status=1):\n",
            "STOP: TOTAL NO. of ITERATIONS REACHED LIMIT.\n",
            "\n",
            "Increase the number of iterations (max_iter) or scale the data as shown in:\n",
            "    https://scikit-learn.org/stable/modules/preprocessing.html\n",
            "Please also refer to the documentation for alternative solver options:\n",
            "    https://scikit-learn.org/stable/modules/linear_model.html#logistic-regression\n",
            "  extra_warning_msg=_LOGISTIC_SOLVER_CONVERGENCE_MSG)\n"
          ]
        }
      ]
    },
    {
      "cell_type": "code",
      "metadata": {
        "id": "K28gVF_yctU8"
      },
      "source": [
        ""
      ],
      "execution_count": null,
      "outputs": []
    },
    {
      "cell_type": "code",
      "metadata": {
        "colab": {
          "base_uri": "https://localhost:8080/"
        },
        "id": "j2tznjX2cte6",
        "outputId": "78993889-6170-42ee-c9a2-4e359f1e8c64"
      },
      "source": [
        "#check accuracy\n",
        "\n",
        "print(classification_report(y_test, prediction)) \n",
        "\n",
        "#model is 100% accurate best possible value for prediction is 1.0\n",
        "#multinomial is possible using the sklearn library making the classifcation issue negligble\n"
      ],
      "execution_count": null,
      "outputs": [
        {
          "output_type": "stream",
          "name": "stdout",
          "text": [
            "              precision    recall  f1-score   support\n",
            "\n",
            "      setosa       1.00      1.00      1.00        10\n",
            "  versicolor       1.00      1.00      1.00         9\n",
            "   virginica       1.00      1.00      1.00        11\n",
            "\n",
            "    accuracy                           1.00        30\n",
            "   macro avg       1.00      1.00      1.00        30\n",
            "weighted avg       1.00      1.00      1.00        30\n",
            "\n"
          ]
        }
      ]
    }
  ]
}